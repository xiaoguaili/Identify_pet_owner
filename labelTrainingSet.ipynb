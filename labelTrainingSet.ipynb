{
 "cells": [
  {
   "cell_type": "code",
   "execution_count": null,
   "metadata": {},
   "outputs": [],
   "source": [
    "import pandas as pd\n",
    "import numpy as np\n",
    "import nltk\n",
    "nltk.download('punkt')\n",
    "from nltk import tokenize\n",
    "\n",
    "#from sklearn import linear_model\n",
    "#from sklearn.neighbors import KNeighborsClassifier\n",
    "from sklearn.feature_extraction.text import CountVectorizer"
   ]
  },
  {
   "cell_type": "markdown",
   "metadata": {},
   "source": [
    "# Section 1. Identify cat/dog owners"
   ]
  },
  {
   "cell_type": "markdown",
   "metadata": {},
   "source": [
    "### load data"
   ]
  },
  {
   "cell_type": "code",
   "execution_count": 2,
   "metadata": {},
   "outputs": [],
   "source": [
    "data = pd.read_csv('animals_comments.csv')"
   ]
  },
  {
   "cell_type": "code",
   "execution_count": 3,
   "metadata": {},
   "outputs": [
    {
     "data": {
      "text/html": [
       "<div>\n",
       "<style scoped>\n",
       "    .dataframe tbody tr th:only-of-type {\n",
       "        vertical-align: middle;\n",
       "    }\n",
       "\n",
       "    .dataframe tbody tr th {\n",
       "        vertical-align: top;\n",
       "    }\n",
       "\n",
       "    .dataframe thead th {\n",
       "        text-align: right;\n",
       "    }\n",
       "</style>\n",
       "<table border=\"1\" class=\"dataframe\">\n",
       "  <thead>\n",
       "    <tr style=\"text-align: right;\">\n",
       "      <th></th>\n",
       "      <th>creator_name</th>\n",
       "      <th>userid</th>\n",
       "      <th>comment</th>\n",
       "    </tr>\n",
       "  </thead>\n",
       "  <tbody>\n",
       "    <tr>\n",
       "      <th>0</th>\n",
       "      <td>Doug The Pug</td>\n",
       "      <td>87</td>\n",
       "      <td>I shared this to my friends and mom the were lol</td>\n",
       "    </tr>\n",
       "    <tr>\n",
       "      <th>1</th>\n",
       "      <td>Doug The Pug</td>\n",
       "      <td>87</td>\n",
       "      <td>Super cute  😀🐕🐶</td>\n",
       "    </tr>\n",
       "    <tr>\n",
       "      <th>2</th>\n",
       "      <td>bulletproof</td>\n",
       "      <td>530</td>\n",
       "      <td>stop saying get em youre literally dumb . have...</td>\n",
       "    </tr>\n",
       "    <tr>\n",
       "      <th>3</th>\n",
       "      <td>Meu Zoológico</td>\n",
       "      <td>670</td>\n",
       "      <td>Tenho uma jiboia e um largato</td>\n",
       "    </tr>\n",
       "    <tr>\n",
       "      <th>4</th>\n",
       "      <td>ojatro</td>\n",
       "      <td>1031</td>\n",
       "      <td>I wanna see what happened to the pigs after th...</td>\n",
       "    </tr>\n",
       "    <tr>\n",
       "      <th>5</th>\n",
       "      <td>Tingle Triggers</td>\n",
       "      <td>1212</td>\n",
       "      <td>Well shit now Im hungry</td>\n",
       "    </tr>\n",
       "    <tr>\n",
       "      <th>6</th>\n",
       "      <td>Hope For Paws - Official Rescue Channel</td>\n",
       "      <td>1806</td>\n",
       "      <td>when I saw the end it said to adopt  I saw dif...</td>\n",
       "    </tr>\n",
       "    <tr>\n",
       "      <th>7</th>\n",
       "      <td>Hope For Paws - Official Rescue Channel</td>\n",
       "      <td>2036</td>\n",
       "      <td>Holy crap. That is quite literally the most ad...</td>\n",
       "    </tr>\n",
       "    <tr>\n",
       "      <th>8</th>\n",
       "      <td>Life Story</td>\n",
       "      <td>2637</td>\n",
       "      <td>武器はクエストで貰えるんじゃないんですか？</td>\n",
       "    </tr>\n",
       "    <tr>\n",
       "      <th>9</th>\n",
       "      <td>Brian Barczyk</td>\n",
       "      <td>2698</td>\n",
       "      <td>Call the teddy Larry</td>\n",
       "    </tr>\n",
       "  </tbody>\n",
       "</table>\n",
       "</div>"
      ],
      "text/plain": [
       "                              creator_name  userid  \\\n",
       "0                             Doug The Pug      87   \n",
       "1                             Doug The Pug      87   \n",
       "2                              bulletproof     530   \n",
       "3                            Meu Zoológico     670   \n",
       "4                                   ojatro    1031   \n",
       "5                          Tingle Triggers    1212   \n",
       "6  Hope For Paws - Official Rescue Channel    1806   \n",
       "7  Hope For Paws - Official Rescue Channel    2036   \n",
       "8                               Life Story    2637   \n",
       "9                            Brian Barczyk    2698   \n",
       "\n",
       "                                             comment  \n",
       "0   I shared this to my friends and mom the were lol  \n",
       "1                                    Super cute  😀🐕🐶  \n",
       "2  stop saying get em youre literally dumb . have...  \n",
       "3                      Tenho uma jiboia e um largato  \n",
       "4  I wanna see what happened to the pigs after th...  \n",
       "5                            Well shit now Im hungry  \n",
       "6  when I saw the end it said to adopt  I saw dif...  \n",
       "7  Holy crap. That is quite literally the most ad...  \n",
       "8                              武器はクエストで貰えるんじゃないんですか？  \n",
       "9                               Call the teddy Larry  "
      ]
     },
     "execution_count": 3,
     "metadata": {},
     "output_type": "execute_result"
    }
   ],
   "source": [
    "data.head(10)"
   ]
  },
  {
   "cell_type": "code",
   "execution_count": 4,
   "metadata": {},
   "outputs": [
    {
     "data": {
      "text/plain": [
       "(5819470, 3)"
      ]
     },
     "execution_count": 4,
     "metadata": {},
     "output_type": "execute_result"
    }
   ],
   "source": [
    "data.shape"
   ]
  },
  {
   "cell_type": "code",
   "execution_count": 5,
   "metadata": {},
   "outputs": [],
   "source": [
    "# drop duplicated data\n",
    "data = data.drop_duplicates()"
   ]
  },
  {
   "cell_type": "code",
   "execution_count": null,
   "metadata": {},
   "outputs": [],
   "source": [
    "data.shape"
   ]
  },
  {
   "cell_type": "code",
   "execution_count": 6,
   "metadata": {},
   "outputs": [],
   "source": [
    "# drop nan\n",
    "data = data.dropna()"
   ]
  },
  {
   "cell_type": "code",
   "execution_count": 66,
   "metadata": {},
   "outputs": [
    {
     "data": {
      "text/plain": [
       "(5725601, 3)"
      ]
     },
     "execution_count": 66,
     "metadata": {},
     "output_type": "execute_result"
    }
   ],
   "source": [
    "data.shape"
   ]
  },
  {
   "cell_type": "code",
   "execution_count": 72,
   "metadata": {},
   "outputs": [],
   "source": [
    "# reset index\n",
    "data = data.reset_index(drop=True)"
   ]
  },
  {
   "cell_type": "code",
   "execution_count": 73,
   "metadata": {},
   "outputs": [
    {
     "data": {
      "text/html": [
       "<div>\n",
       "<style scoped>\n",
       "    .dataframe tbody tr th:only-of-type {\n",
       "        vertical-align: middle;\n",
       "    }\n",
       "\n",
       "    .dataframe tbody tr th {\n",
       "        vertical-align: top;\n",
       "    }\n",
       "\n",
       "    .dataframe thead th {\n",
       "        text-align: right;\n",
       "    }\n",
       "</style>\n",
       "<table border=\"1\" class=\"dataframe\">\n",
       "  <thead>\n",
       "    <tr style=\"text-align: right;\">\n",
       "      <th></th>\n",
       "      <th>creator_name</th>\n",
       "      <th>userid</th>\n",
       "      <th>comment</th>\n",
       "    </tr>\n",
       "  </thead>\n",
       "  <tbody>\n",
       "    <tr>\n",
       "      <th>100000</th>\n",
       "      <td>Taylor Nicole Dean</td>\n",
       "      <td>1582704</td>\n",
       "      <td>I have 3 hermit crabs. I have stopped buying H...</td>\n",
       "    </tr>\n",
       "  </tbody>\n",
       "</table>\n",
       "</div>"
      ],
      "text/plain": [
       "              creator_name   userid  \\\n",
       "100000  Taylor Nicole Dean  1582704   \n",
       "\n",
       "                                                  comment  \n",
       "100000  I have 3 hermit crabs. I have stopped buying H...  "
      ]
     },
     "execution_count": 73,
     "metadata": {},
     "output_type": "execute_result"
    }
   ],
   "source": [
    "data[100000: 100001]"
   ]
  },
  {
   "cell_type": "markdown",
   "metadata": {},
   "source": [
    "### tokenize sentences"
   ]
  },
  {
   "cell_type": "code",
   "execution_count": null,
   "metadata": {},
   "outputs": [],
   "source": [
    "tokenize.sent_tokenize(data.iloc[313][2])"
   ]
  },
  {
   "cell_type": "markdown",
   "metadata": {},
   "source": [
    "### label a small part of data"
   ]
  },
  {
   "cell_type": "code",
   "execution_count": 74,
   "metadata": {},
   "outputs": [
    {
     "data": {
      "text/plain": [
       "(100000, 3)"
      ]
     },
     "execution_count": 74,
     "metadata": {},
     "output_type": "execute_result"
    }
   ],
   "source": [
    "labeledData = data.iloc[:100000].copy()\n",
    "labeledData.shape"
   ]
  },
  {
   "cell_type": "code",
   "execution_count": 75,
   "metadata": {},
   "outputs": [
    {
     "data": {
      "text/html": [
       "<div>\n",
       "<style scoped>\n",
       "    .dataframe tbody tr th:only-of-type {\n",
       "        vertical-align: middle;\n",
       "    }\n",
       "\n",
       "    .dataframe tbody tr th {\n",
       "        vertical-align: top;\n",
       "    }\n",
       "\n",
       "    .dataframe thead th {\n",
       "        text-align: right;\n",
       "    }\n",
       "</style>\n",
       "<table border=\"1\" class=\"dataframe\">\n",
       "  <thead>\n",
       "    <tr style=\"text-align: right;\">\n",
       "      <th></th>\n",
       "      <th>creator_name</th>\n",
       "      <th>userid</th>\n",
       "      <th>comment</th>\n",
       "    </tr>\n",
       "  </thead>\n",
       "  <tbody>\n",
       "    <tr>\n",
       "      <th>99990</th>\n",
       "      <td>Taylor Nicole Dean</td>\n",
       "      <td>1582704</td>\n",
       "      <td>Cheese and that slice of Cheese must be identi...</td>\n",
       "    </tr>\n",
       "    <tr>\n",
       "      <th>99991</th>\n",
       "      <td>Taylor Nicole Dean</td>\n",
       "      <td>1582704</td>\n",
       "      <td>Some Girl Names: Luna Misty Lily Tilly Sasha S...</td>\n",
       "    </tr>\n",
       "    <tr>\n",
       "      <th>99992</th>\n",
       "      <td>Taylor Nicole Dean</td>\n",
       "      <td>1582704</td>\n",
       "      <td>Cheese is so cute!! Hes just like a dog rollin...</td>\n",
       "    </tr>\n",
       "    <tr>\n",
       "      <th>99993</th>\n",
       "      <td>Taylor Nicole Dean</td>\n",
       "      <td>1582704</td>\n",
       "      <td>You have such a big heart Taylor!! That is wha...</td>\n",
       "    </tr>\n",
       "    <tr>\n",
       "      <th>99994</th>\n",
       "      <td>Taylor Nicole Dean</td>\n",
       "      <td>1582704</td>\n",
       "      <td>Awe I am so sorry Taylor its so hard seeing a ...</td>\n",
       "    </tr>\n",
       "    <tr>\n",
       "      <th>99995</th>\n",
       "      <td>Taylor Nicole Dean</td>\n",
       "      <td>1582704</td>\n",
       "      <td>What kind of fish is cheese?</td>\n",
       "    </tr>\n",
       "    <tr>\n",
       "      <th>99996</th>\n",
       "      <td>Taylor Nicole Dean</td>\n",
       "      <td>1582704</td>\n",
       "      <td>You should have bought that cow fish!! Get che...</td>\n",
       "    </tr>\n",
       "    <tr>\n",
       "      <th>99997</th>\n",
       "      <td>Taylor Nicole Dean</td>\n",
       "      <td>1582704</td>\n",
       "      <td>Hey Taylor you should get a plant!! Maybe grow...</td>\n",
       "    </tr>\n",
       "    <tr>\n",
       "      <th>99998</th>\n",
       "      <td>Taylor Nicole Dean</td>\n",
       "      <td>1582704</td>\n",
       "      <td>What a little cutie toast is!!!! :DDDD</td>\n",
       "    </tr>\n",
       "    <tr>\n",
       "      <th>99999</th>\n",
       "      <td>Taylor Nicole Dean</td>\n",
       "      <td>1582704</td>\n",
       "      <td>Can you turn cheese into 2 fish with your magi...</td>\n",
       "    </tr>\n",
       "  </tbody>\n",
       "</table>\n",
       "</div>"
      ],
      "text/plain": [
       "             creator_name   userid  \\\n",
       "99990  Taylor Nicole Dean  1582704   \n",
       "99991  Taylor Nicole Dean  1582704   \n",
       "99992  Taylor Nicole Dean  1582704   \n",
       "99993  Taylor Nicole Dean  1582704   \n",
       "99994  Taylor Nicole Dean  1582704   \n",
       "99995  Taylor Nicole Dean  1582704   \n",
       "99996  Taylor Nicole Dean  1582704   \n",
       "99997  Taylor Nicole Dean  1582704   \n",
       "99998  Taylor Nicole Dean  1582704   \n",
       "99999  Taylor Nicole Dean  1582704   \n",
       "\n",
       "                                                 comment  \n",
       "99990  Cheese and that slice of Cheese must be identi...  \n",
       "99991  Some Girl Names: Luna Misty Lily Tilly Sasha S...  \n",
       "99992  Cheese is so cute!! Hes just like a dog rollin...  \n",
       "99993  You have such a big heart Taylor!! That is wha...  \n",
       "99994  Awe I am so sorry Taylor its so hard seeing a ...  \n",
       "99995                       What kind of fish is cheese?  \n",
       "99996  You should have bought that cow fish!! Get che...  \n",
       "99997  Hey Taylor you should get a plant!! Maybe grow...  \n",
       "99998             What a little cutie toast is!!!! :DDDD  \n",
       "99999  Can you turn cheese into 2 fish with your magi...  "
      ]
     },
     "execution_count": 75,
     "metadata": {},
     "output_type": "execute_result"
    }
   ],
   "source": [
    "labeledData.tail(10)"
   ]
  },
  {
   "cell_type": "code",
   "execution_count": 93,
   "metadata": {},
   "outputs": [],
   "source": [
    "def findOwner(df, DataSize):\n",
    "    labels = []\n",
    "    for i in range(DataSize):\n",
    "        #print(i)\n",
    "        temp = tokenize.sent_tokenize(df.iloc[i][2])\n",
    "        label = 0\n",
    "        #print(df.iloc[i][2])\n",
    "        for sentence in temp:\n",
    "            # find key words in the sentences, dog owner is labeled as 1, cat owner is labeled as 2\n",
    "            mylist = tokenize.word_tokenize(sentence)\n",
    "            if 'dog' in mylist or 'dogs' in mylist:\n",
    "                if 'my' in mylist or 'own' in mylist:\n",
    "                    label = 1\n",
    "                elif 'I' in mylist and 'have' in mylist:\n",
    "                    label = 1   \n",
    "                elif 'we' in mylist and 'have' in mylist:\n",
    "                    label = 1 \n",
    "            elif 'cat' in mylist or 'cats' in mylist:\n",
    "                if 'my' in mylist or 'own' in mylist:\n",
    "                    label = 2\n",
    "                elif 'I' in mylist and 'have' in mylist:\n",
    "                    label = 2   \n",
    "                elif 'we' in mylist and 'have' in mylist:\n",
    "                    label = 2\n",
    "        labels.append(label)\n",
    "    return labels\n",
    "\n",
    "labels = findOwner(labeledData,labeledData.shape[0])\n",
    "#test = findOwner(labeledData, labeledData.shape[0])\n",
    "#print(test)\n",
    "                \n",
    "                    \n",
    "    "
   ]
  },
  {
   "cell_type": "code",
   "execution_count": 53,
   "metadata": {},
   "outputs": [
    {
     "data": {
      "text/plain": [
       "2"
      ]
     },
     "execution_count": 53,
     "metadata": {},
     "output_type": "execute_result"
    }
   ],
   "source": [
    "labels[364]"
   ]
  },
  {
   "cell_type": "code",
   "execution_count": 91,
   "metadata": {},
   "outputs": [
    {
     "name": "stdout",
     "output_type": "stream",
     "text": [
      "True\n"
     ]
    }
   ],
   "source": [
    "sentence = 'my dog is nike'\n",
    "mylist = tokenize.word_tokenize(sentence)\n",
    "print('dog' in mylist)"
   ]
  },
  {
   "cell_type": "code",
   "execution_count": 77,
   "metadata": {},
   "outputs": [
    {
     "data": {
      "text/plain": [
       "100000"
      ]
     },
     "execution_count": 77,
     "metadata": {},
     "output_type": "execute_result"
    }
   ],
   "source": [
    "len(labels)"
   ]
  },
  {
   "cell_type": "code",
   "execution_count": 94,
   "metadata": {},
   "outputs": [
    {
     "name": "stdout",
     "output_type": "stream",
     "text": [
      "865\n"
     ]
    },
    {
     "data": {
      "text/plain": [
       "453"
      ]
     },
     "execution_count": 94,
     "metadata": {},
     "output_type": "execute_result"
    }
   ],
   "source": [
    "print(labels.count(1))\n",
    "labels.count(2)"
   ]
  },
  {
   "cell_type": "code",
   "execution_count": 95,
   "metadata": {},
   "outputs": [],
   "source": [
    "labeledData['labels'] = pd.Series(labels)"
   ]
  },
  {
   "cell_type": "code",
   "execution_count": 106,
   "metadata": {
    "scrolled": true
   },
   "outputs": [],
   "source": [
    "labeledData = labeledData.sort_values(by = 'labels', ascending=False)"
   ]
  },
  {
   "cell_type": "code",
   "execution_count": 108,
   "metadata": {},
   "outputs": [
    {
     "data": {
      "text/plain": [
       "(100000, 4)"
      ]
     },
     "execution_count": 108,
     "metadata": {},
     "output_type": "execute_result"
    }
   ],
   "source": [
    "labeledData.shape"
   ]
  },
  {
   "cell_type": "code",
   "execution_count": 109,
   "metadata": {},
   "outputs": [],
   "source": [
    "# export data for future use\n",
    "export_csv = labeledData.to_csv (r'labeledData.csv', index = None, header=True)"
   ]
  },
  {
   "cell_type": "code",
   "execution_count": null,
   "metadata": {},
   "outputs": [],
   "source": []
  },
  {
   "cell_type": "code",
   "execution_count": null,
   "metadata": {},
   "outputs": [],
   "source": []
  },
  {
   "cell_type": "code",
   "execution_count": null,
   "metadata": {},
   "outputs": [],
   "source": []
  },
  {
   "cell_type": "code",
   "execution_count": null,
   "metadata": {},
   "outputs": [],
   "source": []
  },
  {
   "cell_type": "code",
   "execution_count": 98,
   "metadata": {},
   "outputs": [
    {
     "data": {
      "text/plain": [
       "(453, 4)"
      ]
     },
     "execution_count": 98,
     "metadata": {},
     "output_type": "execute_result"
    }
   ],
   "source": [
    "catData = labeledData[labeledData['labels'] == 2].copy()\n",
    "catData.shape"
   ]
  },
  {
   "cell_type": "code",
   "execution_count": 99,
   "metadata": {},
   "outputs": [
    {
     "data": {
      "text/html": [
       "<div>\n",
       "<style scoped>\n",
       "    .dataframe tbody tr th:only-of-type {\n",
       "        vertical-align: middle;\n",
       "    }\n",
       "\n",
       "    .dataframe tbody tr th {\n",
       "        vertical-align: top;\n",
       "    }\n",
       "\n",
       "    .dataframe thead th {\n",
       "        text-align: right;\n",
       "    }\n",
       "</style>\n",
       "<table border=\"1\" class=\"dataframe\">\n",
       "  <thead>\n",
       "    <tr style=\"text-align: right;\">\n",
       "      <th></th>\n",
       "      <th>creator_name</th>\n",
       "      <th>userid</th>\n",
       "      <th>comment</th>\n",
       "      <th>labels</th>\n",
       "    </tr>\n",
       "  </thead>\n",
       "  <tbody>\n",
       "    <tr>\n",
       "      <th>11</th>\n",
       "      <td>Hope For Paws - Official Rescue Channel</td>\n",
       "      <td>2911</td>\n",
       "      <td>That mother cat looks like my own Im guessing ...</td>\n",
       "      <td>2</td>\n",
       "    </tr>\n",
       "    <tr>\n",
       "      <th>162</th>\n",
       "      <td>stacyvlogs</td>\n",
       "      <td>24646</td>\n",
       "      <td>Male cats are a lot more affectionate than fem...</td>\n",
       "      <td>2</td>\n",
       "    </tr>\n",
       "    <tr>\n",
       "      <th>184</th>\n",
       "      <td>Viktor Larkhill</td>\n",
       "      <td>33849</td>\n",
       "      <td>I would love to have Suki. Although we live in...</td>\n",
       "      <td>2</td>\n",
       "    </tr>\n",
       "    <tr>\n",
       "      <th>231</th>\n",
       "      <td>Cole &amp; Marmalade</td>\n",
       "      <td>43112</td>\n",
       "      <td>I blow smoke in my cats ear right to his brain</td>\n",
       "      <td>2</td>\n",
       "    </tr>\n",
       "    <tr>\n",
       "      <th>410</th>\n",
       "      <td>The Pet Collective</td>\n",
       "      <td>74976</td>\n",
       "      <td>I have a great cat video on my channel</td>\n",
       "      <td>2</td>\n",
       "    </tr>\n",
       "  </tbody>\n",
       "</table>\n",
       "</div>"
      ],
      "text/plain": [
       "                                creator_name  userid  \\\n",
       "11   Hope For Paws - Official Rescue Channel    2911   \n",
       "162                               stacyvlogs   24646   \n",
       "184                          Viktor Larkhill   33849   \n",
       "231                         Cole & Marmalade   43112   \n",
       "410                       The Pet Collective   74976   \n",
       "\n",
       "                                               comment  labels  \n",
       "11   That mother cat looks like my own Im guessing ...       2  \n",
       "162  Male cats are a lot more affectionate than fem...       2  \n",
       "184  I would love to have Suki. Although we live in...       2  \n",
       "231     I blow smoke in my cats ear right to his brain       2  \n",
       "410             I have a great cat video on my channel       2  "
      ]
     },
     "execution_count": 99,
     "metadata": {},
     "output_type": "execute_result"
    }
   ],
   "source": [
    "catData.head()"
   ]
  },
  {
   "cell_type": "code",
   "execution_count": 103,
   "metadata": {},
   "outputs": [
    {
     "data": {
      "text/plain": [
       "'This guy needs a medal and a reward for helping cats and kittens from trees and problems he even feeds them people dont do that a lot I have a street cat and my family feeds her everytime she comes to our window so this man is a nice and awesome person show the the <3'"
      ]
     },
     "execution_count": 103,
     "metadata": {},
     "output_type": "execute_result"
    }
   ],
   "source": [
    "sentence = catData.iloc[5][2]\n",
    "sentence"
   ]
  },
  {
   "cell_type": "code",
   "execution_count": null,
   "metadata": {},
   "outputs": [],
   "source": []
  },
  {
   "cell_type": "code",
   "execution_count": null,
   "metadata": {},
   "outputs": [],
   "source": []
  },
  {
   "cell_type": "code",
   "execution_count": null,
   "metadata": {},
   "outputs": [],
   "source": []
  },
  {
   "cell_type": "code",
   "execution_count": null,
   "metadata": {},
   "outputs": [],
   "source": []
  },
  {
   "cell_type": "code",
   "execution_count": null,
   "metadata": {},
   "outputs": [],
   "source": []
  },
  {
   "cell_type": "code",
   "execution_count": null,
   "metadata": {},
   "outputs": [],
   "source": []
  },
  {
   "cell_type": "code",
   "execution_count": null,
   "metadata": {},
   "outputs": [],
   "source": []
  },
  {
   "cell_type": "code",
   "execution_count": null,
   "metadata": {},
   "outputs": [],
   "source": []
  },
  {
   "cell_type": "code",
   "execution_count": null,
   "metadata": {},
   "outputs": [],
   "source": []
  }
 ],
 "metadata": {
  "kernelspec": {
   "display_name": "Python 3",
   "language": "python",
   "name": "python3"
  },
  "language_info": {
   "codemirror_mode": {
    "name": "ipython",
    "version": 3
   },
   "file_extension": ".py",
   "mimetype": "text/x-python",
   "name": "python",
   "nbconvert_exporter": "python",
   "pygments_lexer": "ipython3",
   "version": "3.6.8"
  }
 },
 "nbformat": 4,
 "nbformat_minor": 2
}
